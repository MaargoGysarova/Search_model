{
 "cells": [
  {
   "cell_type": "markdown",
   "metadata": {},
   "source": [
    "YOLO_WORLD (с открытым словарным запасом в режиме реального времени, основанный на Ultralytics YOLOv8.)"
   ]
  },
  {
   "cell_type": "code",
   "execution_count": null,
   "metadata": {},
   "outputs": [],
   "source": [
    "from ultralytics import YOLOWorld\n",
    "import time\n",
    "import torch\n"
   ]
  },
  {
   "cell_type": "code",
   "execution_count": null,
   "metadata": {},
   "outputs": [
    {
     "name": "stdout",
     "output_type": "stream",
     "text": [
      "\n",
      "image 1/1 /Users/margogusarova/Documents/DL_workspace/Search_model/image.png: 480x640 1 car, 316.5ms\n",
      "Speed: 15.9ms preprocess, 316.5ms inference, 21.6ms postprocess per image at shape (1, 3, 480, 640)\n"
     ]
    }
   ],
   "source": [
    "# Initialize a YOLO-World model\n",
    "model = YOLOWorld(\"yolov8s-world.pt\")\n",
    "\n",
    "# Define custom classes\n",
    "model.set_classes([\"car\"])\n",
    "# Execute prediction on an image\n",
    "results = model.predict(\"/Users/margogusarova/Documents/DL_workspace/Search_model/image.png\")\n",
    "\n",
    "results[0].show()"
   ]
  },
  {
   "cell_type": "markdown",
   "metadata": {},
   "source": [
    "Основное исследование\n"
   ]
  },
  {
   "cell_type": "code",
   "execution_count": null,
   "metadata": {},
   "outputs": [
    {
     "name": "stdout",
     "output_type": "stream",
     "text": [
      "\n",
      "image 1/1 /Users/margogusarova/Documents/DL_workspace/Search_model/1702628881587.jpg: 640x480 2 balls, 533.4ms\n",
      "Speed: 7.6ms preprocess, 533.4ms inference, 18.5ms postprocess per image at shape (1, 3, 640, 480)\n"
     ]
    }
   ],
   "source": [
    "model = YOLOWorld(\"yolov8m-worldv2.pt\")  \n",
    "\n",
    "model.set_classes([\"stone\",\"ball\"])\n",
    "\n",
    "device = \"cuda\" if torch.cuda.is_available() else \"cpu\"\n",
    "print(f\"Используемое устройство: {device}\")\n",
    "\n",
    "image_path = \"/Users/margogusarova/Documents/DL_workspace/Search_model/1702628881587.jpg\"\n",
    "\n",
    "start_time = time.time()\n",
    "results = model.predict(image_path)\n",
    "end_time = time.time()\n",
    "\n",
    "inference_time = end_time - start_time\n",
    "print(f\"Время инференса: {inference_time:.4f} секунд на {device}\")\n",
    "\n",
    "results[0].show()\n",
    "\n",
    "if device == \"cuda\":\n",
    "    memory_used = torch.cuda.memory_allocated() / 1e6  \n",
    "    memory_reserved = torch.cuda.memory_reserved() / 1e6 \n",
    "    print(f\"Используемая память GPU: {memory_used:.2f} MB\")\n",
    "    print(f\"Резервируемая память GPU: {memory_reserved:.2f} MB\")\n",
    "\n",
    "if device == \"cuda\":\n",
    "    print(\"Переключение на CPU для оценки производительности...\")\n",
    "    model = YOLOWorld(\"yolov8m-worldv2.pt\") \n",
    "    model.set_classes([\"stone\", \"ball\"])\n",
    "    model.to(\"cpu\")\n",
    "\n",
    "    #CPU\n",
    "    start_time_cpu = time.time()\n",
    "    results_cpu = model.predict(image_path)\n",
    "    end_time_cpu = time.time()\n",
    "\n",
    "    cpu_inference_time = end_time_cpu - start_time_cpu\n",
    "    print(f\"Время инференса на CPU: {cpu_inference_time:.4f} секунд\")\n",
    "\n",
    "\n",
    "print(\"\\nИсследование завершено.\")\n",
    "print(\"Ключевые метрики:\")\n",
    "print(f\"- Время инференса на GPU: {inference_time:.4f} секунд\")\n",
    "if device == \"cuda\":\n",
    "    print(f\"- Используемая память GPU: {memory_used:.2f} MB\")\n",
    "print(f\"- Время инференса на CPU: {cpu_inference_time:.4f} секунд\")"
   ]
  }
 ],
 "metadata": {
  "kernelspec": {
   "display_name": "Python 3",
   "language": "python",
   "name": "python3"
  },
  "language_info": {
   "codemirror_mode": {
    "name": "ipython",
    "version": 3
   },
   "file_extension": ".py",
   "mimetype": "text/x-python",
   "name": "python",
   "nbconvert_exporter": "python",
   "pygments_lexer": "ipython3",
   "version": "3.9.18"
  }
 },
 "nbformat": 4,
 "nbformat_minor": 2
}
